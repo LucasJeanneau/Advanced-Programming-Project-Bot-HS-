{
 "cells": [
  {
   "cell_type": "code",
   "execution_count": 1,
   "metadata": {},
   "outputs": [],
   "source": [
    "## Download all cards images from Blizzard's API"
   ]
  },
  {
   "cell_type": "code",
   "execution_count": 2,
   "metadata": {},
   "outputs": [],
   "source": [
    "## import libraries\n",
    "\n",
    "from blizzardapi import BlizzardApi as bz\n",
    "import requests\n",
    "import os "
   ]
  },
  {
   "cell_type": "code",
   "execution_count": 3,
   "metadata": {},
   "outputs": [],
   "source": [
    "## Set working directory\n",
    "\n",
    "os.chdir('/Users/Lucas/Desktop/HS_Project/IM_TAUNT') ## change the path if you want to run this notebook"
   ]
  },
  {
   "cell_type": "code",
   "execution_count": null,
   "metadata": {},
   "outputs": [],
   "source": [
    "## API request\n",
    "\n",
    "# API identifiants (please use your own key if you want to make requests)\n",
    "client = bz("key","password")\n",
    "\n",
    "# I first download all taunt minions cards by using the keyword \"taunt\"\n",
    "\n",
    "param = {\"keyword\": \"taunt\", \"pageSize\" : \"600\", \"set\": \"standard\", 'type':'minion'}\n",
    "\n",
    "cards_taunt = client.hearthstone.game_data.search_cards(\"eu\", \"fr_FR\", **param)\n",
    "# The API return a dict \"cards_taunt\" which contains 4 keys (cardCount, cards, page and pageSize)\n",
    "\n",
    "info = cards_taunt['cards']\n",
    "# I only keep the key \"cards\" which contain all informations I needed\n",
    "\n",
    "list_link = []\n",
    "# create an empty list\n",
    "\n",
    "for i in info:\n",
    "    list_link.append(i['image'])\n",
    "# fill the list with links which allow to get images of each card\n",
    "\n",
    "name=1\n",
    "\n",
    "for link in list_link:\n",
    "    img_data = requests.get(link).content\n",
    "    with open(str(name)+'.png','wb') as handler:\n",
    "       handler.write(img_data)\n",
    "    name+=1\n",
    "# save all images in .png with name 1.png, 2.png, ..."
   ]
  },
  {
   "cell_type": "code",
   "execution_count": null,
   "metadata": {},
   "outputs": [],
   "source": [
    "## Now I will download images of all cards with the same process\n",
    "\n",
    "os.chdir('/Users/Lucas/Desktop/HS_Project/IM_ALL')\n",
    "\n",
    "param = {\"pageSize\" : \"500\", \"set\": \"standard\", 'type':'minion','page':'1'}\n",
    "\n",
    "cards_taunt = client.hearthstone.game_data.search_cards(\"eu\", \"fr_FR\", **param)\n",
    "\n",
    "info = cards_taunt['cards']\n",
    "\n",
    "list_link = []\n",
    "\n",
    "for i in info:\n",
    "    list_link.append(i['image'])\n",
    "\n",
    "name=1\n",
    "\n",
    "for link in list_link:\n",
    "    img_data = requests.get(link).content\n",
    "    with open(str(name)+'.png','wb') as handler:\n",
    "       handler.write(img_data)\n",
    "    name+=1\n",
    "    \n",
    "## The maximum number of cards that we can get with a request is 500 (PageSize cannot be >500), so we have to do the same\n",
    "## request for the remaining cards\n",
    "\n",
    "param = {\"pageSize\" : \"500\", \"set\": \"standard\", 'type':'minion','page':'2'}\n",
    "\n",
    "cards_taunt = client.hearthstone.game_data.search_cards(\"eu\", \"fr_FR\", **param)\n",
    "\n",
    "info = cards_taunt['cards']\n",
    "\n",
    "list_link = []\n",
    "\n",
    "for i in info:\n",
    "    list_link.append(i['image'])\n",
    "\n",
    "name=501\n",
    "\n",
    "for link in list_link:\n",
    "    img_data = requests.get(link).content\n",
    "    with open(str(name)+'.png','wb') as handler:\n",
    "       handler.write(img_data)\n",
    "    name+=1\n"
   ]
  }
 ],
 "metadata": {
  "kernelspec": {
   "display_name": "Python 3",
   "language": "python",
   "name": "python3"
  },
  "language_info": {
   "codemirror_mode": {
    "name": "ipython",
    "version": 3
   },
   "file_extension": ".py",
   "mimetype": "text/x-python",
   "name": "python",
   "nbconvert_exporter": "python",
   "pygments_lexer": "ipython3",
   "version": "3.8.5"
  }
 },
 "nbformat": 4,
 "nbformat_minor": 4
}
